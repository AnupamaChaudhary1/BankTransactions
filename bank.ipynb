{
 "cells": [
  {
   "cell_type": "markdown",
   "id": "75eed499",
   "metadata": {},
   "source": [
    "### Bank Trasaction System (Data Analysis)"
   ]
  },
  {
   "cell_type": "markdown",
   "id": "a0263b1e",
   "metadata": {},
   "source": [
    "##### Description\n",
    "The Bank Transaction System for Data Analysis is a data-driven application that records and analyzes banking transactions such as deposits, withdrawals, and transfers. It enables efficient data management, visualization of customer behavior, detection of suspicious activities, and financial trend analysis using tools like dashboards, charts, and statistical methods. The system supports decision-making by providing meaningful insights into transaction patterns and banking performance."
   ]
  },
  {
   "cell_type": "markdown",
   "id": "cf39de1d",
   "metadata": {},
   "source": [
    "##### 1. Data Cleaning\n",
    "##### a. Load data"
   ]
  },
  {
   "cell_type": "code",
   "execution_count": 2,
   "id": "161d0ec7",
   "metadata": {},
   "outputs": [
    {
     "name": "stdout",
     "output_type": "stream",
     "text": [
      "Missing values per column:\n",
      " transaction_id                 0\n",
      "customer_id                    0\n",
      "account_type                 193\n",
      "branch_code                    0\n",
      "transaction_type             245\n",
      "transaction_amount             0\n",
      "transaction_date               0\n",
      "channel                      250\n",
      "balance_after_transaction      0\n",
      "merchant_category_code         0\n",
      "geo_location                   0\n",
      "dtype: int64\n"
     ]
    }
   ],
   "source": [
    "import pandas as pd\n",
    "\n",
    "# Load the dataset into a DataFrame\n",
    "df = pd.read_csv('Dataset.csv')\n",
    "\n",
    "# Display the number of missing values per column\n",
    "print(\"Missing values per column:\\n\", df.isnull().sum())\n"
   ]
  },
  {
   "cell_type": "markdown",
   "id": "4bab6aec",
   "metadata": {},
   "source": [
    "#### 2. Clean Data"
   ]
  },
  {
   "cell_type": "code",
   "execution_count": 5,
   "id": "c9831a79",
   "metadata": {},
   "outputs": [
    {
     "name": "stdout",
     "output_type": "stream",
     "text": [
      "Missing values in 'account_type' after filling: 0\n"
     ]
    },
    {
     "name": "stderr",
     "output_type": "stream",
     "text": [
      "C:\\Users\\A C E R\\AppData\\Local\\Temp\\ipykernel_35216\\3070561575.py:7: FutureWarning: A value is trying to be set on a copy of a DataFrame or Series through chained assignment using an inplace method.\n",
      "The behavior will change in pandas 3.0. This inplace method will never work because the intermediate object on which we are setting values always behaves as a copy.\n",
      "\n",
      "For example, when doing 'df[col].method(value, inplace=True)', try using 'df.method({col: value}, inplace=True)' or df[col] = df[col].method(value) instead, to perform the operation inplace on the original object.\n",
      "\n",
      "\n",
      "  df['account_type'].replace(['nan', 'NaN', 'None', ''], np.nan, inplace=True)\n",
      "C:\\Users\\A C E R\\AppData\\Local\\Temp\\ipykernel_35216\\3070561575.py:16: FutureWarning: A value is trying to be set on a copy of a DataFrame or Series through chained assignment using an inplace method.\n",
      "The behavior will change in pandas 3.0. This inplace method will never work because the intermediate object on which we are setting values always behaves as a copy.\n",
      "\n",
      "For example, when doing 'df[col].method(value, inplace=True)', try using 'df.method({col: value}, inplace=True)' or df[col] = df[col].method(value) instead, to perform the operation inplace on the original object.\n",
      "\n",
      "\n",
      "  df['account_type'].fillna(mode_account_type, inplace=True)\n"
     ]
    }
   ],
   "source": [
    "import numpy as np\n",
    "\n",
    "# Convert 'account_type' to string and normalize the values\n",
    "df['account_type'] = df['account_type'].astype(str).str.strip()\n",
    "\n",
    "# Replace string 'nan' or 'NaN' with actual np.nan\n",
    "df['account_type'].replace(['nan', 'NaN', 'None', ''], np.nan, inplace=True)\n",
    "\n",
    "# Convert column back to object type if needed\n",
    "df['account_type'] = df['account_type'].astype('category')\n",
    "\n",
    "# Calculate the mode\n",
    "mode_account_type = df['account_type'].mode()[0]\n",
    "\n",
    "# Replace true NaN values with mode\n",
    "df['account_type'].fillna(mode_account_type, inplace=True)\n",
    "\n",
    "# Check the result\n",
    "print(\"Missing values in 'account_type' after filling:\", df['account_type'].isnull().sum())\n"
   ]
  },
  {
   "cell_type": "code",
   "execution_count": 10,
   "id": "959213a4",
   "metadata": {},
   "outputs": [
    {
     "name": "stdout",
     "output_type": "stream",
     "text": [
      "Unique values after cleaning: ['Business' 'Current' 'Savings']\n",
      "Missing values after cleaning: 0\n"
     ]
    },
    {
     "name": "stderr",
     "output_type": "stream",
     "text": [
      "C:\\Users\\A C E R\\AppData\\Local\\Temp\\ipykernel_35216\\3374710132.py:11: FutureWarning: A value is trying to be set on a copy of a DataFrame or Series through chained assignment using an inplace method.\n",
      "The behavior will change in pandas 3.0. This inplace method will never work because the intermediate object on which we are setting values always behaves as a copy.\n",
      "\n",
      "For example, when doing 'df[col].method(value, inplace=True)', try using 'df.method({col: value}, inplace=True)' or df[col] = df[col].method(value) instead, to perform the operation inplace on the original object.\n",
      "\n",
      "\n",
      "  df['account_type'].replace('nan', np.nan, inplace=True)\n",
      "C:\\Users\\A C E R\\AppData\\Local\\Temp\\ipykernel_35216\\3374710132.py:15: FutureWarning: A value is trying to be set on a copy of a DataFrame or Series through chained assignment using an inplace method.\n",
      "The behavior will change in pandas 3.0. This inplace method will never work because the intermediate object on which we are setting values always behaves as a copy.\n",
      "\n",
      "For example, when doing 'df[col].method(value, inplace=True)', try using 'df.method({col: value}, inplace=True)' or df[col] = df[col].method(value) instead, to perform the operation inplace on the original object.\n",
      "\n",
      "\n",
      "  df['account_type'].fillna(mode_account_type, inplace=True)\n"
     ]
    }
   ],
   "source": [
    "import pandas as pd\n",
    "import numpy as np\n",
    "\n",
    "# Load dataset\n",
    "df = pd.read_csv('Dataset.csv')\n",
    "\n",
    "# Convert all values in 'account_type' to lowercase and strip spaces\n",
    "df['account_type'] = df['account_type'].str.strip().str.lower()\n",
    "\n",
    "# Replace string 'nan' with actual np.nan\n",
    "df['account_type'].replace('nan', np.nan, inplace=True)\n",
    "\n",
    "# Now fill missing values with mode\n",
    "mode_account_type = df['account_type'].mode()[0]\n",
    "df['account_type'].fillna(mode_account_type, inplace=True)\n",
    "\n",
    "# Optional: Capitalize first letter for uniform display\n",
    "df['account_type'] = df['account_type'].str.capitalize()\n",
    "\n",
    "# Final check\n",
    "print(\"Unique values after cleaning:\", df['account_type'].unique())\n",
    "print(\"Missing values after cleaning:\", df['account_type'].isnull().sum())\n"
   ]
  },
  {
   "cell_type": "code",
   "execution_count": 14,
   "id": "35d2ebfb",
   "metadata": {},
   "outputs": [
    {
     "name": "stdout",
     "output_type": "stream",
     "text": [
      "Unique values after cleaning: ['Deposit' 'Transfer' 'Online Payment' 'Withdrawal']\n",
      "Missing values in 'transaction_type': 0\n"
     ]
    },
    {
     "name": "stderr",
     "output_type": "stream",
     "text": [
      "C:\\Users\\A C E R\\AppData\\Local\\Temp\\ipykernel_35216\\3010321623.py:8: FutureWarning: A value is trying to be set on a copy of a DataFrame or Series through chained assignment using an inplace method.\n",
      "The behavior will change in pandas 3.0. This inplace method will never work because the intermediate object on which we are setting values always behaves as a copy.\n",
      "\n",
      "For example, when doing 'df[col].method(value, inplace=True)', try using 'df.method({col: value}, inplace=True)' or df[col] = df[col].method(value) instead, to perform the operation inplace on the original object.\n",
      "\n",
      "\n",
      "  df['transaction_type'].replace('nan', np.nan, inplace=True)\n",
      "C:\\Users\\A C E R\\AppData\\Local\\Temp\\ipykernel_35216\\3010321623.py:12: FutureWarning: A value is trying to be set on a copy of a DataFrame or Series through chained assignment using an inplace method.\n",
      "The behavior will change in pandas 3.0. This inplace method will never work because the intermediate object on which we are setting values always behaves as a copy.\n",
      "\n",
      "For example, when doing 'df[col].method(value, inplace=True)', try using 'df.method({col: value}, inplace=True)' or df[col] = df[col].method(value) instead, to perform the operation inplace on the original object.\n",
      "\n",
      "\n",
      "  df['transaction_type'].fillna(mode_transaction_type, inplace=True)\n"
     ]
    }
   ],
   "source": [
    "# Convert to lowercase for uniform comparison\n",
    "df['transaction_type'] = df['transaction_type'].astype(str).str.strip().str.lower()\n",
    "\n",
    "# Replace typo 'dep0sit' with correct 'deposit'\n",
    "df['transaction_type'] = df['transaction_type'].replace('dep0sit', 'deposit')\n",
    "\n",
    "# Replace string 'nan' with np.nan (if present)\n",
    "df['transaction_type'].replace('nan', np.nan, inplace=True)\n",
    "\n",
    "# Convert real NaNs with mode\n",
    "mode_transaction_type = df['transaction_type'].mode()[0]\n",
    "df['transaction_type'].fillna(mode_transaction_type, inplace=True)\n",
    "\n",
    "# Optional: Capitalize each word (e.g., 'online payment' → 'Online Payment')\n",
    "df['transaction_type'] = df['transaction_type'].str.title()\n",
    "\n",
    "# Final check\n",
    "print(\"Unique values after cleaning:\", df['transaction_type'].unique())\n",
    "print(\"Missing values in 'transaction_type':\", df['transaction_type'].isnull().sum())\n"
   ]
  },
  {
   "cell_type": "code",
   "execution_count": 20,
   "id": "19a70992",
   "metadata": {},
   "outputs": [
    {
     "name": "stdout",
     "output_type": "stream",
     "text": [
      "['Mobile Banking' 'Atm' 'Qr' 'Counter' 'Internet']\n"
     ]
    }
   ],
   "source": [
    "print(df['channel'].unique())\n"
   ]
  },
  {
   "cell_type": "code",
   "execution_count": 18,
   "id": "b96d3b18",
   "metadata": {},
   "outputs": [
    {
     "name": "stdout",
     "output_type": "stream",
     "text": [
      "Unique values in 'channel': ['Mobile Banking' 'Atm' 'Qr' 'Counter' 'Internet']\n",
      "Missing values in 'channel': 0\n"
     ]
    },
    {
     "name": "stderr",
     "output_type": "stream",
     "text": [
      "C:\\Users\\A C E R\\AppData\\Local\\Temp\\ipykernel_35216\\2491185866.py:5: FutureWarning: A value is trying to be set on a copy of a DataFrame or Series through chained assignment using an inplace method.\n",
      "The behavior will change in pandas 3.0. This inplace method will never work because the intermediate object on which we are setting values always behaves as a copy.\n",
      "\n",
      "For example, when doing 'df[col].method(value, inplace=True)', try using 'df.method({col: value}, inplace=True)' or df[col] = df[col].method(value) instead, to perform the operation inplace on the original object.\n",
      "\n",
      "\n",
      "  df['channel'].replace('nan', np.nan, inplace=True)\n",
      "C:\\Users\\A C E R\\AppData\\Local\\Temp\\ipykernel_35216\\2491185866.py:9: FutureWarning: A value is trying to be set on a copy of a DataFrame or Series through chained assignment using an inplace method.\n",
      "The behavior will change in pandas 3.0. This inplace method will never work because the intermediate object on which we are setting values always behaves as a copy.\n",
      "\n",
      "For example, when doing 'df[col].method(value, inplace=True)', try using 'df.method({col: value}, inplace=True)' or df[col] = df[col].method(value) instead, to perform the operation inplace on the original object.\n",
      "\n",
      "\n",
      "  df['channel'].fillna(mode_channel, inplace=True)\n"
     ]
    }
   ],
   "source": [
    "# Normalize case: Convert to lowercase first\n",
    "df['channel'] = df['channel'].astype(str).str.strip().str.lower()\n",
    "\n",
    "# Replace string 'nan' with np.nan\n",
    "df['channel'].replace('nan', np.nan, inplace=True)\n",
    "\n",
    "# Fill actual NaN values with the mode\n",
    "mode_channel = df['channel'].mode()[0]\n",
    "df['channel'].fillna(mode_channel, inplace=True)\n",
    "\n",
    "# Format properly (e.g., 'mobile banking' → 'Mobile Banking')\n",
    "df['channel'] = df['channel'].str.title()\n",
    "\n",
    "# Final check\n",
    "print(\"Unique values in 'channel':\", df['channel'].unique())\n",
    "print(\"Missing values in 'channel':\", df['channel'].isnull().sum())\n"
   ]
  },
  {
   "cell_type": "code",
   "execution_count": 21,
   "id": "e82ac4bf",
   "metadata": {},
   "outputs": [
    {
     "name": "stdout",
     "output_type": "stream",
     "text": [
      "0    BR-002\n",
      "1    BR-002\n",
      "2    BR-014\n",
      "3    BR-013\n",
      "4    BR-002\n",
      "Name: branch_code, dtype: object\n"
     ]
    }
   ],
   "source": [
    "# Remove leading and trailing spaces from 'branch_code'\n",
    "df['branch_code'] = df['branch_code'].astype(str).str.strip()\n",
    "\n",
    "# Check if spaces removed by showing unique values or example rows\n",
    "print(df['branch_code'].head())\n"
   ]
  },
  {
   "cell_type": "code",
   "execution_count": 22,
   "id": "b49e5e71",
   "metadata": {},
   "outputs": [],
   "source": [
    "# 4. Save the updated DataFrame to a new CSV file\n",
    "df.to_csv('cleaned.csv', index=False)"
   ]
  }
 ],
 "metadata": {
  "kernelspec": {
   "display_name": "broadwayenv (3.13.3)",
   "language": "python",
   "name": "python3"
  },
  "language_info": {
   "codemirror_mode": {
    "name": "ipython",
    "version": 3
   },
   "file_extension": ".py",
   "mimetype": "text/x-python",
   "name": "python",
   "nbconvert_exporter": "python",
   "pygments_lexer": "ipython3",
   "version": "3.13.3"
  }
 },
 "nbformat": 4,
 "nbformat_minor": 5
}
